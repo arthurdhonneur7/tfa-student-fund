{
 "cells": [
  {
   "cell_type": "markdown",
   "metadata": {},
   "source": [
    "# Using statistical test let's see which stocks are the most mean reverting spread"
   ]
  },
  {
   "cell_type": "markdown",
   "metadata": {},
   "source": [
    "## Building the data"
   ]
  },
  {
   "cell_type": "code",
   "execution_count": 2,
   "metadata": {},
   "outputs": [],
   "source": [
    "import numpy as np\n",
    "import pandas as pd\n",
    "import seaborn as sns\n",
    "import matplotlib.pyplot as plt\n",
    "import statsmodels.api as sm\n",
    "from statsmodels.tsa.stattools import adfuller\n",
    "from itertools import combinations\n",
    "import glob"
   ]
  },
  {
   "cell_type": "code",
   "execution_count": 15,
   "metadata": {},
   "outputs": [],
   "source": [
    "list_industries = glob.glob(\"../data_day/*\")\n",
    "\n",
    "df_dict_stock_data = {path.split('/')[-1]:{} for path in list_industries}\n",
    "\n",
    "for path in  list_industries:\n",
    "\n",
    "    industry_name = path.split('/')[-1]\n",
    "    list_stocks = glob.glob(path+'/*')\n",
    "\n",
    "    for stock in list_stocks:\n",
    "\n",
    "        stock_name = stock.split('/')[-1]\n",
    "        stock_path = glob.glob(stock+'/*')[0]\n",
    "        df = pd.read_csv(stock_path)\n",
    "        df_dict_stock_data[industry_name][stock_name] = df"
   ]
  },
  {
   "cell_type": "markdown",
   "metadata": {},
   "source": [
    "## Version for hand picked two stocks"
   ]
  },
  {
   "cell_type": "code",
   "execution_count": 99,
   "metadata": {},
   "outputs": [
    {
     "data": {
      "text/html": [
       "<div>\n",
       "<style scoped>\n",
       "    .dataframe tbody tr th:only-of-type {\n",
       "        vertical-align: middle;\n",
       "    }\n",
       "\n",
       "    .dataframe tbody tr th {\n",
       "        vertical-align: top;\n",
       "    }\n",
       "\n",
       "    .dataframe thead th {\n",
       "        text-align: right;\n",
       "    }\n",
       "</style>\n",
       "<table border=\"1\" class=\"dataframe\">\n",
       "  <thead>\n",
       "    <tr style=\"text-align: right;\">\n",
       "      <th></th>\n",
       "      <th>time</th>\n",
       "      <th>open</th>\n",
       "      <th>high</th>\n",
       "      <th>low</th>\n",
       "      <th>close</th>\n",
       "      <th>volume</th>\n",
       "      <th>volume_weighted</th>\n",
       "    </tr>\n",
       "  </thead>\n",
       "  <tbody>\n",
       "    <tr>\n",
       "      <th>0</th>\n",
       "      <td>2023-03-08 05:00:00</td>\n",
       "      <td>16.410</td>\n",
       "      <td>16.6000</td>\n",
       "      <td>16.2701</td>\n",
       "      <td>16.59</td>\n",
       "      <td>11399587.0</td>\n",
       "      <td>16.4675</td>\n",
       "    </tr>\n",
       "    <tr>\n",
       "      <th>1</th>\n",
       "      <td>2023-03-09 05:00:00</td>\n",
       "      <td>16.550</td>\n",
       "      <td>16.8000</td>\n",
       "      <td>15.8450</td>\n",
       "      <td>15.88</td>\n",
       "      <td>18504951.0</td>\n",
       "      <td>16.2679</td>\n",
       "    </tr>\n",
       "    <tr>\n",
       "      <th>2</th>\n",
       "      <td>2023-03-10 05:00:00</td>\n",
       "      <td>15.980</td>\n",
       "      <td>16.0000</td>\n",
       "      <td>15.1100</td>\n",
       "      <td>15.46</td>\n",
       "      <td>27280184.0</td>\n",
       "      <td>15.5431</td>\n",
       "    </tr>\n",
       "    <tr>\n",
       "      <th>3</th>\n",
       "      <td>2023-03-13 04:00:00</td>\n",
       "      <td>15.020</td>\n",
       "      <td>15.2600</td>\n",
       "      <td>14.6900</td>\n",
       "      <td>14.85</td>\n",
       "      <td>32541745.0</td>\n",
       "      <td>14.9565</td>\n",
       "    </tr>\n",
       "    <tr>\n",
       "      <th>4</th>\n",
       "      <td>2023-03-14 04:00:00</td>\n",
       "      <td>15.050</td>\n",
       "      <td>15.3200</td>\n",
       "      <td>14.4850</td>\n",
       "      <td>14.66</td>\n",
       "      <td>35258905.0</td>\n",
       "      <td>14.8810</td>\n",
       "    </tr>\n",
       "    <tr>\n",
       "      <th>...</th>\n",
       "      <td>...</td>\n",
       "      <td>...</td>\n",
       "      <td>...</td>\n",
       "      <td>...</td>\n",
       "      <td>...</td>\n",
       "      <td>...</td>\n",
       "      <td>...</td>\n",
       "    </tr>\n",
       "    <tr>\n",
       "      <th>496</th>\n",
       "      <td>2025-02-28 05:00:00</td>\n",
       "      <td>14.565</td>\n",
       "      <td>14.7499</td>\n",
       "      <td>14.2700</td>\n",
       "      <td>14.35</td>\n",
       "      <td>49194960.0</td>\n",
       "      <td>14.4358</td>\n",
       "    </tr>\n",
       "    <tr>\n",
       "      <th>497</th>\n",
       "      <td>2025-03-03 05:00:00</td>\n",
       "      <td>14.360</td>\n",
       "      <td>14.5550</td>\n",
       "      <td>13.7700</td>\n",
       "      <td>13.87</td>\n",
       "      <td>55165105.0</td>\n",
       "      <td>14.1395</td>\n",
       "    </tr>\n",
       "    <tr>\n",
       "      <th>498</th>\n",
       "      <td>2025-03-04 05:00:00</td>\n",
       "      <td>13.520</td>\n",
       "      <td>13.6500</td>\n",
       "      <td>13.0150</td>\n",
       "      <td>13.35</td>\n",
       "      <td>70894421.0</td>\n",
       "      <td>13.2985</td>\n",
       "    </tr>\n",
       "    <tr>\n",
       "      <th>499</th>\n",
       "      <td>2025-03-05 05:00:00</td>\n",
       "      <td>13.510</td>\n",
       "      <td>14.2300</td>\n",
       "      <td>13.4900</td>\n",
       "      <td>14.09</td>\n",
       "      <td>56097559.0</td>\n",
       "      <td>13.9860</td>\n",
       "    </tr>\n",
       "    <tr>\n",
       "      <th>500</th>\n",
       "      <td>2025-03-06 05:00:00</td>\n",
       "      <td>13.820</td>\n",
       "      <td>13.9300</td>\n",
       "      <td>13.2001</td>\n",
       "      <td>13.25</td>\n",
       "      <td>57921911.0</td>\n",
       "      <td>13.5203</td>\n",
       "    </tr>\n",
       "  </tbody>\n",
       "</table>\n",
       "<p>501 rows × 7 columns</p>\n",
       "</div>"
      ],
      "text/plain": [
       "                    time    open     high      low  close      volume  \\\n",
       "0    2023-03-08 05:00:00  16.410  16.6000  16.2701  16.59  11399587.0   \n",
       "1    2023-03-09 05:00:00  16.550  16.8000  15.8450  15.88  18504951.0   \n",
       "2    2023-03-10 05:00:00  15.980  16.0000  15.1100  15.46  27280184.0   \n",
       "3    2023-03-13 04:00:00  15.020  15.2600  14.6900  14.85  32541745.0   \n",
       "4    2023-03-14 04:00:00  15.050  15.3200  14.4850  14.66  35258905.0   \n",
       "..                   ...     ...      ...      ...    ...         ...   \n",
       "496  2025-02-28 05:00:00  14.565  14.7499  14.2700  14.35  49194960.0   \n",
       "497  2025-03-03 05:00:00  14.360  14.5550  13.7700  13.87  55165105.0   \n",
       "498  2025-03-04 05:00:00  13.520  13.6500  13.0150  13.35  70894421.0   \n",
       "499  2025-03-05 05:00:00  13.510  14.2300  13.4900  14.09  56097559.0   \n",
       "500  2025-03-06 05:00:00  13.820  13.9300  13.2001  13.25  57921911.0   \n",
       "\n",
       "     volume_weighted  \n",
       "0            16.4675  \n",
       "1            16.2679  \n",
       "2            15.5431  \n",
       "3            14.9565  \n",
       "4            14.8810  \n",
       "..               ...  \n",
       "496          14.4358  \n",
       "497          14.1395  \n",
       "498          13.2985  \n",
       "499          13.9860  \n",
       "500          13.5203  \n",
       "\n",
       "[501 rows x 7 columns]"
      ]
     },
     "execution_count": 99,
     "metadata": {},
     "output_type": "execute_result"
    }
   ],
   "source": [
    "df_dict_stock_data['airlines']['AAL']"
   ]
  },
  {
   "cell_type": "code",
   "execution_count": 100,
   "metadata": {},
   "outputs": [
    {
     "data": {
      "text/html": [
       "<div>\n",
       "<style scoped>\n",
       "    .dataframe tbody tr th:only-of-type {\n",
       "        vertical-align: middle;\n",
       "    }\n",
       "\n",
       "    .dataframe tbody tr th {\n",
       "        vertical-align: top;\n",
       "    }\n",
       "\n",
       "    .dataframe thead th {\n",
       "        text-align: right;\n",
       "    }\n",
       "</style>\n",
       "<table border=\"1\" class=\"dataframe\">\n",
       "  <thead>\n",
       "    <tr style=\"text-align: right;\">\n",
       "      <th></th>\n",
       "      <th>time</th>\n",
       "      <th>open_AAL</th>\n",
       "      <th>high_AAL</th>\n",
       "      <th>low_AAL</th>\n",
       "      <th>close_AAL</th>\n",
       "      <th>volume_AAL</th>\n",
       "      <th>volume_weighted_AAL</th>\n",
       "      <th>open_ALGT</th>\n",
       "      <th>high_ALGT</th>\n",
       "      <th>low_ALGT</th>\n",
       "      <th>close_ALGT</th>\n",
       "      <th>volume_ALGT</th>\n",
       "      <th>volume_weighted_ALGT</th>\n",
       "    </tr>\n",
       "  </thead>\n",
       "  <tbody>\n",
       "    <tr>\n",
       "      <th>0</th>\n",
       "      <td>2023-03-08 05:00:00</td>\n",
       "      <td>16.41</td>\n",
       "      <td>16.60</td>\n",
       "      <td>16.2701</td>\n",
       "      <td>16.59</td>\n",
       "      <td>11399587.0</td>\n",
       "      <td>16.4675</td>\n",
       "      <td>103.60</td>\n",
       "      <td>104.12</td>\n",
       "      <td>101.410</td>\n",
       "      <td>104.02</td>\n",
       "      <td>162717.0</td>\n",
       "      <td>103.1249</td>\n",
       "    </tr>\n",
       "    <tr>\n",
       "      <th>1</th>\n",
       "      <td>2023-03-09 05:00:00</td>\n",
       "      <td>16.55</td>\n",
       "      <td>16.80</td>\n",
       "      <td>15.8450</td>\n",
       "      <td>15.88</td>\n",
       "      <td>18504951.0</td>\n",
       "      <td>16.2679</td>\n",
       "      <td>103.95</td>\n",
       "      <td>104.10</td>\n",
       "      <td>99.355</td>\n",
       "      <td>100.77</td>\n",
       "      <td>207066.0</td>\n",
       "      <td>101.2407</td>\n",
       "    </tr>\n",
       "    <tr>\n",
       "      <th>2</th>\n",
       "      <td>2023-03-10 05:00:00</td>\n",
       "      <td>15.98</td>\n",
       "      <td>16.00</td>\n",
       "      <td>15.1100</td>\n",
       "      <td>15.46</td>\n",
       "      <td>27280184.0</td>\n",
       "      <td>15.5431</td>\n",
       "      <td>98.15</td>\n",
       "      <td>98.88</td>\n",
       "      <td>93.820</td>\n",
       "      <td>96.06</td>\n",
       "      <td>322162.0</td>\n",
       "      <td>95.7110</td>\n",
       "    </tr>\n",
       "    <tr>\n",
       "      <th>3</th>\n",
       "      <td>2023-03-13 04:00:00</td>\n",
       "      <td>15.02</td>\n",
       "      <td>15.26</td>\n",
       "      <td>14.6900</td>\n",
       "      <td>14.85</td>\n",
       "      <td>32541745.0</td>\n",
       "      <td>14.9565</td>\n",
       "      <td>91.42</td>\n",
       "      <td>93.65</td>\n",
       "      <td>89.510</td>\n",
       "      <td>91.05</td>\n",
       "      <td>275989.0</td>\n",
       "      <td>91.9271</td>\n",
       "    </tr>\n",
       "    <tr>\n",
       "      <th>4</th>\n",
       "      <td>2023-03-14 04:00:00</td>\n",
       "      <td>15.05</td>\n",
       "      <td>15.32</td>\n",
       "      <td>14.4850</td>\n",
       "      <td>14.66</td>\n",
       "      <td>35258905.0</td>\n",
       "      <td>14.8810</td>\n",
       "      <td>94.14</td>\n",
       "      <td>94.99</td>\n",
       "      <td>91.000</td>\n",
       "      <td>92.32</td>\n",
       "      <td>174772.0</td>\n",
       "      <td>92.7698</td>\n",
       "    </tr>\n",
       "  </tbody>\n",
       "</table>\n",
       "</div>"
      ],
      "text/plain": [
       "                  time  open_AAL  high_AAL  low_AAL  close_AAL  volume_AAL  \\\n",
       "0  2023-03-08 05:00:00     16.41     16.60  16.2701      16.59  11399587.0   \n",
       "1  2023-03-09 05:00:00     16.55     16.80  15.8450      15.88  18504951.0   \n",
       "2  2023-03-10 05:00:00     15.98     16.00  15.1100      15.46  27280184.0   \n",
       "3  2023-03-13 04:00:00     15.02     15.26  14.6900      14.85  32541745.0   \n",
       "4  2023-03-14 04:00:00     15.05     15.32  14.4850      14.66  35258905.0   \n",
       "\n",
       "   volume_weighted_AAL  open_ALGT  high_ALGT  low_ALGT  close_ALGT  \\\n",
       "0              16.4675     103.60     104.12   101.410      104.02   \n",
       "1              16.2679     103.95     104.10    99.355      100.77   \n",
       "2              15.5431      98.15      98.88    93.820       96.06   \n",
       "3              14.9565      91.42      93.65    89.510       91.05   \n",
       "4              14.8810      94.14      94.99    91.000       92.32   \n",
       "\n",
       "   volume_ALGT  volume_weighted_ALGT  \n",
       "0     162717.0              103.1249  \n",
       "1     207066.0              101.2407  \n",
       "2     322162.0               95.7110  \n",
       "3     275989.0               91.9271  \n",
       "4     174772.0               92.7698  "
      ]
     },
     "execution_count": 100,
     "metadata": {},
     "output_type": "execute_result"
    }
   ],
   "source": [
    "label_1 = 'AAL'\n",
    "label_2 = 'ALGT'\n",
    "\n",
    "df_1 = df_dict_stock_data['airlines'][label_1]\n",
    "df_2 = df_dict_stock_data['airlines'][label_2]\n",
    "\n",
    "df = pd.merge(left=df_1, right=df_2, on='time', suffixes=['_' + label_1, '_' + label_2])\n",
    "\n",
    "df.head()"
   ]
  },
  {
   "cell_type": "code",
   "execution_count": 101,
   "metadata": {},
   "outputs": [],
   "source": [
    "x = df['close_' + label_1]\n",
    "y = df['close_' + label_2]\n",
    "\n",
    "x = x.values.reshape(-1, 1)\n",
    "x_with_cst = sm.add_constant(x)\n"
   ]
  },
  {
   "cell_type": "code",
   "execution_count": 102,
   "metadata": {},
   "outputs": [
    {
     "name": "stdout",
     "output_type": "stream",
     "text": [
      "The coefficients are :8.321241151235016\n"
     ]
    }
   ],
   "source": [
    "\n",
    "model = sm.OLS(y, x_with_cst).fit()\n",
    "beta = model.params.iloc[1]\n",
    "\n",
    "print(f\"The coefficients are :{model.params.iloc[1]}\")"
   ]
  },
  {
   "cell_type": "code",
   "execution_count": 103,
   "metadata": {},
   "outputs": [
    {
     "data": {
      "text/plain": [
       "const   -38.351472\n",
       "x1        8.321241\n",
       "dtype: float64"
      ]
     },
     "execution_count": 103,
     "metadata": {},
     "output_type": "execute_result"
    }
   ],
   "source": [
    "model.params"
   ]
  },
  {
   "cell_type": "code",
   "execution_count": 104,
   "metadata": {},
   "outputs": [],
   "source": [
    "spread = df['close_' + label_2] - beta * df['close_' + label_1]"
   ]
  },
  {
   "cell_type": "code",
   "execution_count": 105,
   "metadata": {},
   "outputs": [],
   "source": [
    "result = adfuller(spread)"
   ]
  },
  {
   "cell_type": "code",
   "execution_count": 106,
   "metadata": {},
   "outputs": [
    {
     "data": {
      "text/plain": [
       "0.1490407547355771"
      ]
     },
     "execution_count": 106,
     "metadata": {},
     "output_type": "execute_result"
    }
   ],
   "source": [
    "result[1]"
   ]
  },
  {
   "cell_type": "markdown",
   "metadata": {},
   "source": [
    "## Now let's make the loop for one each industry and let's create a heatmap"
   ]
  },
  {
   "cell_type": "markdown",
   "metadata": {},
   "source": [
    "### Chat gpt functions"
   ]
  },
  {
   "cell_type": "code",
   "execution_count": null,
   "metadata": {},
   "outputs": [],
   "source": [
    "def calculate_hedge_ratio(y, x):\n",
    "    \"\"\" Calculate hedge ratio using OLS regression \"\"\"\n",
    "    x = sm.add_constant(x)  # Add intercept\n",
    "    model = sm.OLS(y, x).fit()\n",
    "    return model.params[1]  # Return the slope (hedge ratio)\n",
    "\n",
    "def perform_adf_test(spread):\n",
    "    \"\"\" Perform the Augmented Dickey-Fuller test on the spread \"\"\"\n",
    "    result = adfuller(spread)\n",
    "    return result[1]  # Return the p-value\n",
    "\n",
    "def create_adf_heatmap(price_data):\n",
    "    \"\"\" Create a heatmap of ADF test p-values for all stock pairs \"\"\"\n",
    "    stocks = price_data.columns\n",
    "    p_values = pd.DataFrame(np.ones((len(stocks), len(stocks))), index=stocks, columns=stocks)\n",
    "    \n",
    "    for stock1, stock2 in combinations(stocks, 2):\n",
    "        y = price_data[stock1]\n",
    "        x = price_data[stock2]\n",
    "        hedge_ratio = calculate_hedge_ratio(y, x)\n",
    "        spread = y - hedge_ratio * x\n",
    "        p_value = perform_adf_test(spread)\n",
    "        \n",
    "        p_values.loc[stock1, stock2] = p_value\n",
    "        # p_values.loc[stock2, stock1] = p_value  # Symmetric matrix\n",
    "\n",
    "    plt.figure(figsize=(10, 8))\n",
    "    sns.heatmap(p_values, annot=True, fmt=\".3f\", cmap=\"coolwarm\", linewidths=0.5)\n",
    "    plt.title(\"ADF Test P-values Heatmap (Mean Reversion)\")\n",
    "    plt.show()\n",
    "\n",
    "    return p_values"
   ]
  },
  {
   "cell_type": "code",
   "execution_count": 26,
   "metadata": {},
   "outputs": [],
   "source": [
    "# # Code generate by Chat GPT to finish everything\n",
    "# # Load your OHLCV data (example: only closing prices)\n",
    "# price_data = pd.read_csv(\"your_data.csv\", index_col=0, parse_dates=True)\n",
    "# close_prices = price_data.pivot(columns=\"symbol\", values=\"close\")\n",
    "\n",
    "# # Generate the heatmap of ADF p-values\n",
    "# p_value_matrix = create_adf_heatmap(close_prices)\n"
   ]
  },
  {
   "cell_type": "markdown",
   "metadata": {},
   "source": [
    "### Arthur's version"
   ]
  },
  {
   "cell_type": "code",
   "execution_count": 122,
   "metadata": {},
   "outputs": [
    {
     "name": "stdout",
     "output_type": "stream",
     "text": [
      "The pair WMT/PG has a p-value of 0.009037869962070254\n",
      "The pair DEO/EL has a p-value of 0.0008374123876033327\n",
      "The pair BJ/PG has a p-value of 0.001955218346254495\n",
      "The pair COST/PG has a p-value of 0.0010865649657410107\n",
      "The pair SAP/AVGO has a p-value of 0.0024294844463222404\n",
      "The pair MU/QCOM has a p-value of 0.0018920456356948784\n",
      "The pair QCOM/MSFT has a p-value of 0.009991317073002567\n",
      "The pair TSM/GOOGL has a p-value of 0.005056067573448308\n",
      "The pair GOOGL/AVGO has a p-value of 0.002464197912855622\n",
      "The pair META/AVGO has a p-value of 0.007096385012119753\n",
      "The pair KMI/BP has a p-value of 0.0006298740433253296\n",
      "The pair KMI/CVX has a p-value of 0.008538719761990159\n",
      "The pair KMI/DVN has a p-value of 0.0024928657838661516\n",
      "The pair BP/ENB has a p-value of 0.005829841605490583\n",
      "The pair BP/TRP has a p-value of 0.00012569346151618482\n",
      "The pair EPD/DVN has a p-value of 0.009623001261835197\n",
      "The pair HAL/ENB has a p-value of 0.0004127833849581462\n",
      "The pair HAL/TRP has a p-value of 0.0007867795141121686\n",
      "The pair SLB/ENB has a p-value of 0.005998505319560742\n",
      "The pair SLB/TRP has a p-value of 0.0017026801988311228\n",
      "The pair XOM/EOG has a p-value of 0.008204866470355862\n",
      "The pair ENB/OXY has a p-value of 0.001181166857508407\n",
      "The pair WMB/DVN has a p-value of 0.004492399050007301\n",
      "The pair TRP/OXY has a p-value of 0.00037991994273569386\n",
      "The pair DUK/SO has a p-value of 0.0013119823646497001\n",
      "The pair MS/IBKR has a p-value of 0.008901014777397706\n",
      "The pair MA/SCHW has a p-value of 0.0029291960845436635\n",
      "The pair WFC/SCHW has a p-value of 0.0001023840075497903\n",
      "The pair BAC/SCHW has a p-value of 0.0030404519630549765\n",
      "The pair V/SCHW has a p-value of 0.0027899474965015097\n",
      "The pair JPM/SCHW has a p-value of 0.0012445226245000375\n",
      "The pair VALE/BHP has a p-value of 0.004550958290257404\n",
      "The pair LIN/RIO has a p-value of 0.008331040470785749\n",
      "The pair APD/RIO has a p-value of 0.0013856130906918552\n",
      "The pair O/VICI has a p-value of 0.0006184446869588747\n",
      "The pair ABBV/NVS has a p-value of 0.002186811998456817\n",
      "The pair LUV/JBLU has a p-value of 0.0006623885049549625\n"
     ]
    }
   ],
   "source": [
    "industry_list = list(df_dict_stock_data.keys())\n",
    "count = 0\n",
    "treshold = 0.01\n",
    "pairs = []\n",
    "pairs_dict = {industry: [] for industry in df_dict_stock_data.keys()}\n",
    "\n",
    "for chosen_industry in industry_list:\n",
    "\n",
    "    dict_industry = df_dict_stock_data[chosen_industry]\n",
    "    list_stocks_in_this_industry = list(dict_industry.keys())\n",
    "\n",
    "    list_stocks_in_this_industry\n",
    "\n",
    "    for label_1, label_2 in combinations(list_stocks_in_this_industry, 2):\n",
    "        \n",
    "        df_1 = dict_industry[label_1]\n",
    "        df_2 = dict_industry[label_2]\n",
    "\n",
    "        df = pd.merge(left=df_1, right=df_2, on='time', suffixes=['_' + label_1, '_' + label_2])\n",
    "\n",
    "        x = df['close_' + label_1]\n",
    "        y = df['close_' + label_2]\n",
    "\n",
    "        x_with_cst = sm.add_constant(x)\n",
    "\n",
    "        model = sm.OLS(y, x_with_cst).fit()\n",
    "        beta = model.params.iloc[1]\n",
    "\n",
    "        spread = df['close_' + label_2] - beta * df['close_' + label_1]\n",
    "        result = adfuller(spread)\n",
    "\n",
    "        p_value = result[1]\n",
    "\n",
    "        if p_value < treshold:\n",
    "            print(f\"The pair {label_1}/{label_2} has a p-value of {p_value}\")\n",
    "            count += 1\n",
    "            pairs.append((label_1, label_2))\n",
    "            pairs_dict[chosen_industry].append((label_1, label_2))\n",
    "\n",
    "    #for stock in dict_industry.keys():\n"
   ]
  },
  {
   "cell_type": "code",
   "execution_count": 124,
   "metadata": {},
   "outputs": [
    {
     "name": "stdout",
     "output_type": "stream",
     "text": [
      "The number of pairs is 37\n"
     ]
    }
   ],
   "source": [
    "print(f\"The number of pairs is {len(pairs)}\")"
   ]
  },
  {
   "cell_type": "code",
   "execution_count": 129,
   "metadata": {},
   "outputs": [],
   "source": [
    "import json\n",
    "\n",
    "with open(f'./pair_dict_treshold_{treshold}.json', 'w') as fp:\n",
    "    json.dump(pairs_dict, fp)"
   ]
  },
  {
   "cell_type": "code",
   "execution_count": null,
   "metadata": {},
   "outputs": [],
   "source": []
  }
 ],
 "metadata": {
  "kernelspec": {
   "display_name": "obb",
   "language": "python",
   "name": "python3"
  },
  "language_info": {
   "codemirror_mode": {
    "name": "ipython",
    "version": 3
   },
   "file_extension": ".py",
   "mimetype": "text/x-python",
   "name": "python",
   "nbconvert_exporter": "python",
   "pygments_lexer": "ipython3",
   "version": "3.11.11"
  }
 },
 "nbformat": 4,
 "nbformat_minor": 2
}
